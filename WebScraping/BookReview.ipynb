{
 "cells": [
  {
   "cell_type": "markdown",
   "metadata": {},
   "source": [
    "# 전집 책 링크 가져오기"
   ]
  },
  {
   "cell_type": "code",
   "execution_count": 142,
   "metadata": {},
   "outputs": [],
   "source": [
    "import requests\n",
    "import re\n",
    "import warnings\n",
    "from bs4 import BeautifulSoup as bs\n",
    "import pandas as pd\n",
    "\n",
    "# 불필요한 경고 출력을 방지합니다.\n",
    "warnings.filterwarnings('ignore')"
   ]
  },
  {
   "cell_type": "code",
   "execution_count": 3,
   "metadata": {},
   "outputs": [],
   "source": [
    "url = \"http://minumsa.minumsa.com/book_category/%ec%84%b8%ea%b3%84%eb%ac%b8%ed%95%99%ec%a0%84%ec%a7%91/?bpg=1\"\n",
    "html = requests.get(url, verify = False).text"
   ]
  },
  {
   "cell_type": "code",
   "execution_count": 4,
   "metadata": {},
   "outputs": [],
   "source": [
    "soup = bs(html,\"lxml\")"
   ]
  },
  {
   "cell_type": "code",
   "execution_count": 6,
   "metadata": {},
   "outputs": [],
   "source": [
    "book_link_list = soup.select(\".book-title > a\")"
   ]
  },
  {
   "cell_type": "code",
   "execution_count": 7,
   "metadata": {},
   "outputs": [
    {
     "data": {
      "text/plain": [
       "[<a href=\"http://minumsa.minumsa.com/book/22662/\">제르미날 1 </a>,\n",
       " <a href=\"http://minumsa.minumsa.com/book/22665/\">제르미날 2</a>,\n",
       " <a href=\"http://minumsa.minumsa.com/book/22587/\">노스트로모 1</a>,\n",
       " <a href=\"http://minumsa.minumsa.com/book/22589/\">노스트로모 2</a>,\n",
       " <a href=\"http://minumsa.minumsa.com/book/22504/\">태평천하</a>,\n",
       " <a href=\"http://minumsa.minumsa.com/book/22498/\">이상 시 전집</a>,\n",
       " <a href=\"http://minumsa.minumsa.com/book/22434/\">어둠 속의 사건</a>,\n",
       " <a href=\"http://minumsa.minumsa.com/book/22240/\">사기 열전1</a>,\n",
       " <a href=\"http://minumsa.minumsa.com/book/22244/\">사기 열전2</a>,\n",
       " <a href=\"http://minumsa.minumsa.com/book/22246/\">사기 열전3</a>]"
      ]
     },
     "execution_count": 7,
     "metadata": {},
     "output_type": "execute_result"
    }
   ],
   "source": [
    "book_link_list"
   ]
  },
  {
   "cell_type": "code",
   "execution_count": 8,
   "metadata": {},
   "outputs": [
    {
     "name": "stdout",
     "output_type": "stream",
     "text": [
      "['http://minumsa.minumsa.com/book/22662/', 'http://minumsa.minumsa.com/book/22665/', 'http://minumsa.minumsa.com/book/22587/', 'http://minumsa.minumsa.com/book/22589/', 'http://minumsa.minumsa.com/book/22504/', 'http://minumsa.minumsa.com/book/22498/', 'http://minumsa.minumsa.com/book/22434/', 'http://minumsa.minumsa.com/book/22240/', 'http://minumsa.minumsa.com/book/22244/', 'http://minumsa.minumsa.com/book/22246/']\n"
     ]
    }
   ],
   "source": [
    "book_link = []\n",
    "for i in book_link_list :\n",
    "    linkfile = i.get(\"href\")\n",
    "    book_link.append(linkfile)\n",
    "print(book_link)"
   ]
  },
  {
   "cell_type": "markdown",
   "metadata": {},
   "source": [
    "###  세계문학전집 책 링크 가져오기"
   ]
  },
  {
   "cell_type": "code",
   "execution_count": 14,
   "metadata": {},
   "outputs": [],
   "source": [
    "book_link = []\n",
    "\n",
    "for page in range(1,47):\n",
    "    url = \"http://minumsa.minumsa.com/book_category/%ec%84%b8%ea%b3%84%eb%ac%b8%ed%95%99%ec%a0%84%ec%a7%91/?bpg=\"+str(page)\n",
    "    html = requests.get(url, verify = False).text\n",
    "    soup = bs(html,\"lxml\")\n",
    "    book_link_list = soup.select(\".book-title > a\")\n",
    "    \n",
    "    for i in book_link_list :\n",
    "        linkfile = i.get(\"href\")\n",
    "        book_link.append(linkfile)\n"
   ]
  },
  {
   "cell_type": "code",
   "execution_count": 139,
   "metadata": {},
   "outputs": [],
   "source": [
    "book_title = []\n",
    "book_review = []\n",
    "\n",
    "for book in range(0,len(book_link)):\n",
    "    url = book_link[book]\n",
    "    html = requests.get(url, verify = False).text\n",
    "    soup = bs(html,\"lxml\")\n",
    "\n",
    "    if \"편집자 리뷰\" in str(soup):\n",
    "        book_title.append(soup.select(\"div.titles > h1\")[0].get_text())\n",
    "        book_review.append(re.sub(\"\\xa0\",\"\",soup.select(\"div#book-review\")[0].get_text()).replace(\"\\n\",\"\").split(\"본문\")[0])\n",
    "    else :\n",
    "        continue\n"
   ]
  },
  {
   "cell_type": "code",
   "execution_count": 140,
   "metadata": {},
   "outputs": [
    {
     "data": {
      "text/plain": [
       "377"
      ]
     },
     "execution_count": 140,
     "metadata": {},
     "output_type": "execute_result"
    }
   ],
   "source": [
    "len(book_title)"
   ]
  },
  {
   "cell_type": "code",
   "execution_count": 141,
   "metadata": {},
   "outputs": [
    {
     "data": {
      "text/plain": [
       "377"
      ]
     },
     "execution_count": 141,
     "metadata": {},
     "output_type": "execute_result"
    }
   ],
   "source": [
    "len(book_review)"
   ]
  },
  {
   "cell_type": "code",
   "execution_count": 144,
   "metadata": {},
   "outputs": [],
   "source": [
    "book_dataframe = pd.DataFrame({\"Title\":book_title, \"Review\":book_review})"
   ]
  },
  {
   "cell_type": "code",
   "execution_count": 146,
   "metadata": {},
   "outputs": [],
   "source": [
    "book_dataframe.to_csv(\"C:/crawring/book_dataframe.csv\", index = False, encoding='utf-8-sig')"
   ]
  },
  {
   "cell_type": "code",
   "execution_count": null,
   "metadata": {},
   "outputs": [],
   "source": []
  }
 ],
 "metadata": {
  "kernelspec": {
   "display_name": "Python 3.9.12 ('base')",
   "language": "python",
   "name": "python3"
  },
  "language_info": {
   "codemirror_mode": {
    "name": "ipython",
    "version": 3
   },
   "file_extension": ".py",
   "mimetype": "text/x-python",
   "name": "python",
   "nbconvert_exporter": "python",
   "pygments_lexer": "ipython3",
   "version": "3.9.12"
  },
  "orig_nbformat": 4,
  "vscode": {
   "interpreter": {
    "hash": "ad2bdc8ecc057115af97d19610ffacc2b4e99fae6737bb82f5d7fb13d2f2c186"
   }
  }
 },
 "nbformat": 4,
 "nbformat_minor": 2
}
