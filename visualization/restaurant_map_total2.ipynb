{
 "cells": [
  {
   "cell_type": "markdown",
   "id": "23f00ed3",
   "metadata": {},
   "source": [
    "### 더본코리아 브랜드별 음식점 위치 지도 생성(지점별 정보 제공)"
   ]
  },
  {
   "cell_type": "code",
   "execution_count": 7,
   "id": "020f499f",
   "metadata": {},
   "outputs": [
    {
     "name": "stdout",
     "output_type": "stream",
     "text": [
      "Defaulting to user installation because normal site-packages is not writeable\n",
      "Requirement already satisfied: folium in c:\\users\\lwg14\\appdata\\roaming\\python\\python39\\site-packages (0.13.0)\n",
      "Requirement already satisfied: branca>=0.3.0 in c:\\users\\lwg14\\appdata\\roaming\\python\\python39\\site-packages (from folium) (0.6.0)\n",
      "Requirement already satisfied: jinja2>=2.9 in c:\\programdata\\anaconda3\\lib\\site-packages (from folium) (2.11.3)\n",
      "Requirement already satisfied: numpy in c:\\programdata\\anaconda3\\lib\\site-packages (from folium) (1.21.5)\n",
      "Requirement already satisfied: requests in c:\\programdata\\anaconda3\\lib\\site-packages (from folium) (2.27.1)\n",
      "Requirement already satisfied: MarkupSafe>=0.23 in c:\\programdata\\anaconda3\\lib\\site-packages (from jinja2>=2.9->folium) (2.0.1)\n",
      "Requirement already satisfied: urllib3<1.27,>=1.21.1 in c:\\programdata\\anaconda3\\lib\\site-packages (from requests->folium) (1.26.9)\n",
      "Requirement already satisfied: idna<4,>=2.5 in c:\\programdata\\anaconda3\\lib\\site-packages (from requests->folium) (3.3)\n",
      "Requirement already satisfied: charset-normalizer~=2.0.0 in c:\\programdata\\anaconda3\\lib\\site-packages (from requests->folium) (2.0.4)\n",
      "Requirement already satisfied: certifi>=2017.4.17 in c:\\programdata\\anaconda3\\lib\\site-packages (from requests->folium) (2021.10.8)\n"
     ]
    }
   ],
   "source": [
    "! pip install folium"
   ]
  },
  {
   "cell_type": "code",
   "execution_count": 8,
   "id": "0990abdc",
   "metadata": {},
   "outputs": [],
   "source": [
    "import folium\n",
    "import pandas as pd"
   ]
  },
  {
   "cell_type": "code",
   "execution_count": 10,
   "id": "b7a6de43",
   "metadata": {},
   "outputs": [
    {
     "data": {
      "text/html": [
       "<div>\n",
       "<style scoped>\n",
       "    .dataframe tbody tr th:only-of-type {\n",
       "        vertical-align: middle;\n",
       "    }\n",
       "\n",
       "    .dataframe tbody tr th {\n",
       "        vertical-align: top;\n",
       "    }\n",
       "\n",
       "    .dataframe thead th {\n",
       "        text-align: right;\n",
       "    }\n",
       "</style>\n",
       "<table border=\"1\" class=\"dataframe\">\n",
       "  <thead>\n",
       "    <tr style=\"text-align: right;\">\n",
       "      <th></th>\n",
       "      <th>brand</th>\n",
       "      <th>city</th>\n",
       "      <th>store</th>\n",
       "      <th>address</th>\n",
       "      <th>Latitude</th>\n",
       "      <th>Longitude</th>\n",
       "      <th>telephone</th>\n",
       "      <th>openhour</th>\n",
       "    </tr>\n",
       "  </thead>\n",
       "  <tbody>\n",
       "    <tr>\n",
       "      <th>0</th>\n",
       "      <td>연돈볼카츠</td>\n",
       "      <td>서울특별시</td>\n",
       "      <td>이마트용산점</td>\n",
       "      <td>서울 용산구 한강대로23길 55 (한강로3가, 용산역) 지하2층 이마트용산점 內</td>\n",
       "      <td>37.529444</td>\n",
       "      <td>126.965556</td>\n",
       "      <td>미등록</td>\n",
       "      <td>10:00 ~21:00(브레이크타임 13:30~15:00)</td>\n",
       "    </tr>\n",
       "    <tr>\n",
       "      <th>1</th>\n",
       "      <td>빽다방</td>\n",
       "      <td>서울특별시</td>\n",
       "      <td>잠실레이크팰리스점</td>\n",
       "      <td>서울 송파구 석촌호수로 144</td>\n",
       "      <td>37.506905</td>\n",
       "      <td>127.092979</td>\n",
       "      <td>070-8287-1231</td>\n",
       "      <td>08:00 ~ 22:00</td>\n",
       "    </tr>\n",
       "    <tr>\n",
       "      <th>2</th>\n",
       "      <td>빽보이피자</td>\n",
       "      <td>서울특별시</td>\n",
       "      <td>노원역점</td>\n",
       "      <td>서울 노원구 상계로1길 14-11 (상계동, 하이웰빙상가) 하이웰빙상가 1층</td>\n",
       "      <td>37.657018</td>\n",
       "      <td>127.061749</td>\n",
       "      <td>포장 주문 번호 1668-1931</td>\n",
       "      <td>11:00 ~ 22:00</td>\n",
       "    </tr>\n",
       "    <tr>\n",
       "      <th>3</th>\n",
       "      <td>빽다방</td>\n",
       "      <td>서울특별시</td>\n",
       "      <td>이태원경리단길점</td>\n",
       "      <td>서울 용산구 회나무로13길 5</td>\n",
       "      <td>37.539481</td>\n",
       "      <td>126.989270</td>\n",
       "      <td>070-4070-6616</td>\n",
       "      <td>10:00 ~ 21:00</td>\n",
       "    </tr>\n",
       "    <tr>\n",
       "      <th>4</th>\n",
       "      <td>제순식당</td>\n",
       "      <td>서울특별시</td>\n",
       "      <td>연세대SK국제학사점</td>\n",
       "      <td>서울 서대문구 연세로 50 연세대학교 신촌캠퍼스 SK국제학사, B2층</td>\n",
       "      <td>37.565784</td>\n",
       "      <td>126.938572</td>\n",
       "      <td>-</td>\n",
       "      <td>11:00 ~ 19:00</td>\n",
       "    </tr>\n",
       "  </tbody>\n",
       "</table>\n",
       "</div>"
      ],
      "text/plain": [
       "   brand   city       store                                       address  \\\n",
       "0  연돈볼카츠  서울특별시      이마트용산점  서울 용산구 한강대로23길 55 (한강로3가, 용산역) 지하2층 이마트용산점 內   \n",
       "1    빽다방  서울특별시   잠실레이크팰리스점                              서울 송파구 석촌호수로 144   \n",
       "2  빽보이피자  서울특별시        노원역점    서울 노원구 상계로1길 14-11 (상계동, 하이웰빙상가) 하이웰빙상가 1층   \n",
       "3    빽다방  서울특별시    이태원경리단길점                              서울 용산구 회나무로13길 5   \n",
       "4   제순식당  서울특별시  연세대SK국제학사점        서울 서대문구 연세로 50 연세대학교 신촌캠퍼스 SK국제학사, B2층   \n",
       "\n",
       "    Latitude   Longitude           telephone                          openhour  \n",
       "0  37.529444  126.965556                 미등록  10:00 ~21:00(브레이크타임 13:30~15:00)  \n",
       "1  37.506905  127.092979       070-8287-1231                     08:00 ~ 22:00  \n",
       "2  37.657018  127.061749  포장 주문 번호 1668-1931                     11:00 ~ 22:00  \n",
       "3  37.539481  126.989270       070-4070-6616                     10:00 ~ 21:00  \n",
       "4  37.565784  126.938572                   -                     11:00 ~ 19:00  "
      ]
     },
     "execution_count": 10,
     "metadata": {},
     "output_type": "execute_result"
    }
   ],
   "source": [
    "# 음식점 정보 파일 불러오기\n",
    "data = pd.read_csv(\"C:/crawring/restaurant_location_info.csv\")\n",
    "\n",
    "# 서울특별시 음식점만 추출하여 data에 저장\n",
    "data = data.loc[data[\"city\"]==\"서울특별시\"]\n",
    "data.head()"
   ]
  },
  {
   "cell_type": "code",
   "execution_count": 11,
   "id": "3b0df5ce",
   "metadata": {},
   "outputs": [
    {
     "data": {
      "text/plain": [
       "array(['연돈볼카츠', '빽다방', '빽보이피자', '제순식당', '백스비어', '인생설렁탕', '한신포차',\n",
       "       '역전우동0410', nan, '고투웍', '리춘시장', '홍콩반점0410', '롤링파스타', '성성식당',\n",
       "       '막이오름', '새마을식당', '본가', '미정국수0410', '원조쌈밥집', '돌배기집', '백철판0410',\n",
       "       '분식9단', '구내식당', \"백's 비빔밥\"], dtype=object)"
      ]
     },
     "execution_count": 11,
     "metadata": {},
     "output_type": "execute_result"
    }
   ],
   "source": [
    "# 더본코리아 브랜드 종류 확인\n",
    "data[\"brand\"].unique()"
   ]
  },
  {
   "cell_type": "code",
   "execution_count": 12,
   "id": "13a966dd",
   "metadata": {},
   "outputs": [],
   "source": [
    "# 브랜드 종류 리스트화, 결측값 제외\n",
    "brand_list = data[\"brand\"].unique().tolist()\n",
    "del brand_list[8]"
   ]
  },
  {
   "cell_type": "markdown",
   "id": "797a859a",
   "metadata": {},
   "source": [
    "### 브랜드별 지도 생성"
   ]
  },
  {
   "cell_type": "code",
   "execution_count": 15,
   "id": "1ad60895",
   "metadata": {},
   "outputs": [],
   "source": [
    "for brand_name in brand_list:\n",
    "    brand_data = data.loc[data[\"brand\"]== brand_name] \n",
    "\n",
    "    m = folium.Map(location=[37.559819, 126.963895],\n",
    "               zoom_start=11, \n",
    "               width=750, \n",
    "               height=500\n",
    "              )\n",
    "\n",
    "    # 위도\n",
    "    latitude = brand_data[\"Latitude\"]\n",
    "    # 경도\n",
    "    longitude = brand_data[\"Longitude\"]\n",
    "    # 매장명\n",
    "    store_name = brand_data[\"store\"]\n",
    "    # 전화번호\n",
    "    telephone = brand_data[\"telephone\"]\n",
    "    # 도로명주소\n",
    "    address = brand_data[\"address\"]\n",
    "    # 영업시간\n",
    "    openhour = brand_data[\"openhour\"]\n",
    "\n",
    "    for i,j,k,l,p,oh in zip(latitude,longitude, store_name, telephone, address, openhour) :\n",
    "        html = \"<h3>{} {}<br><h5><b>전화번호</b> : {}<br><b>지점주소</b> : {}<br><b>영업시간</b> : {}\".format(brand_name,k,l,p,oh)\n",
    "        iframe = folium.IFrame(html)\n",
    "        popup = folium.Popup(iframe,\n",
    "                        min_width=300,\n",
    "                        max_width=500)\n",
    "        \n",
    "        folium.Marker([i,j],\n",
    "                    popup= popup,\n",
    "                    tooltip= k, \n",
    "                    icon=folium.Icon('red', icon='star'),\n",
    "                    ).add_to(m)\n",
    "    m.save('C:/MULTI_PROJECT_3/visualization/map/'+brand_name+'map.html')\n",
    "\n"
   ]
  },
  {
   "cell_type": "code",
   "execution_count": null,
   "id": "fa49c8ae",
   "metadata": {},
   "outputs": [],
   "source": []
  }
 ],
 "metadata": {
  "kernelspec": {
   "display_name": "Python 3.9.12 ('base')",
   "language": "python",
   "name": "python3"
  },
  "language_info": {
   "codemirror_mode": {
    "name": "ipython",
    "version": 3
   },
   "file_extension": ".py",
   "mimetype": "text/x-python",
   "name": "python",
   "nbconvert_exporter": "python",
   "pygments_lexer": "ipython3",
   "version": "3.9.12"
  },
  "vscode": {
   "interpreter": {
    "hash": "ad2bdc8ecc057115af97d19610ffacc2b4e99fae6737bb82f5d7fb13d2f2c186"
   }
  }
 },
 "nbformat": 4,
 "nbformat_minor": 5
}
